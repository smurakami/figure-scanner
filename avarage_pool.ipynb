{
 "cells": [
  {
   "cell_type": "markdown",
   "metadata": {},
   "source": [
    "# 抽出された特徴量の評価"
   ]
  },
  {
   "cell_type": "code",
   "execution_count": 21,
   "metadata": {
    "collapsed": false
   },
   "outputs": [],
   "source": [
    "import json\n",
    "import numpy as np\n",
    "import matplotlib.pyplot as plt\n",
    "import scipy.signal\n",
    "import sklearn.preprocessing\n",
    "%matplotlib inline\n"
   ]
  },
  {
   "cell_type": "code",
   "execution_count": 22,
   "metadata": {
    "collapsed": false
   },
   "outputs": [],
   "source": [
    "import glob\n",
    "\n",
    "onomatpeia_list = [\n",
    "    'clutter', 'gochagocha',\n",
    "    'murmur', 'sarasara',\n",
    "    'twinkle', 'kirakira',\n",
    "]\n",
    "\n",
    "dat = json.load(open(\"figure_features.json\"))\n",
    "dirname_list = []\n",
    "\n",
    "for onomatpeia in onomatpeia_list:\n",
    "    dirname_pattern = 'jsons/%s/*' % onomatpeia\n",
    "    for dirname in sorted(glob.glob(dirname_pattern)):\n",
    "        dirname_list.append(dirname)\n",
    "\n",
    "shape_pool = np.load('shape_pool.npy')\n",
    "shape_feat_pool = np.load('shape_feat_pool.npy')"
   ]
  },
  {
   "cell_type": "code",
   "execution_count": 23,
   "metadata": {
    "collapsed": false
   },
   "outputs": [
    {
     "name": "stdout",
     "output_type": "stream",
     "text": [
      "jsons/clutter/JPN \t[ 0.          0.          0.          0.00574713  0.00574713  0.01149425\n",
      "  0.01149425  0.02873563  0.41954023  0.5         0.01724138  0.          0.\n",
      "  0.          0.          0.          0.          0.        ]\n",
      "jsons/clutter/WRD \t[ 0.          0.          0.          0.          0.00689655  0.02068966\n",
      "  0.00689655  0.05517241  0.37241379  0.48965517  0.02758621  0.0137931\n",
      "  0.00689655  0.          0.          0.          0.          0.        ]\n",
      "jsons/gochagocha/JPN \t[ 0.          0.00367647  0.00367647  0.00735294  0.01838235  0.03308824\n",
      "  0.06617647  0.09926471  0.31617647  0.24264706  0.09191176  0.05514706\n",
      "  0.02941176  0.01102941  0.01838235  0.00367647  0.          0.        ]\n",
      "jsons/gochagocha/WRD \t[ 0.          0.          0.          0.          0.00534759  0.          0.\n",
      "  0.11229947  0.47058824  0.31016043  0.07486631  0.02673797  0.          0.\n",
      "  0.          0.          0.          0.        ]\n",
      "jsons/murmur/JPN \t[ 0.          0.          0.          0.          0.00581395  0.          0.\n",
      "  0.05813953  0.47093023  0.4244186   0.02906977  0.00581395  0.00581395\n",
      "  0.          0.          0.          0.          0.        ]\n",
      "jsons/murmur/WRD \t[ 0.          0.          0.          0.00793651  0.          0.          0.\n",
      "  0.05555556  0.44444444  0.47619048  0.01587302  0.          0.          0.\n",
      "  0.          0.          0.          0.        ]\n",
      "jsons/sarasara/JPN \t[ 0.00564972  0.00564972  0.00564972  0.02259887  0.00564972  0.01129944\n",
      "  0.01694915  0.03954802  0.36723164  0.44632768  0.02259887  0.00564972\n",
      "  0.01129944  0.00564972  0.00564972  0.01694915  0.00564972  0.        ]\n",
      "jsons/sarasara/WRD \t[ 0.          0.          0.          0.00564972  0.          0.01977401\n",
      "  0.00564972  0.01694915  0.33615819  0.57627119  0.01129944  0.01412429\n",
      "  0.01129944  0.          0.          0.          0.00282486  0.        ]\n",
      "jsons/twinkle/JPN \t[ 0.          0.00591716  0.          0.01183432  0.00591716  0.          0.\n",
      "  0.01775148  0.33727811  0.61538462  0.00591716  0.          0.          0.\n",
      "  0.          0.          0.          0.        ]\n",
      "jsons/twinkle/WRD \t[ 0.          0.00574713  0.          0.00574713  0.02873563  0.02873563\n",
      "  0.05747126  0.05747126  0.36781609  0.24137931  0.10344828  0.06321839\n",
      "  0.02298851  0.00574713  0.01149425  0.          0.          0.        ]\n",
      "jsons/kirakira/JPN \t[ 0.          0.          0.01036269  0.          0.01554404  0.\n",
      "  0.00518135  0.02072539  0.44041451  0.4611399   0.03626943  0.01036269\n",
      "  0.          0.          0.          0.          0.          0.        ]\n",
      "jsons/kirakira/WRD \t[ 0.00526316  0.01578947  0.          0.01052632  0.          0.\n",
      "  0.00526316  0.04210526  0.37368421  0.48421053  0.03684211  0.00526316\n",
      "  0.00526316  0.01052632  0.          0.00526316  0.          0.        ]\n"
     ]
    }
   ],
   "source": [
    "for d, dirname in zip(dat, dirname_list):\n",
    "    d = np.array(d)\n",
    "    print dirname, \"\\t\", d.mean(0)"
   ]
  },
  {
   "cell_type": "code",
   "execution_count": 24,
   "metadata": {
    "collapsed": true
   },
   "outputs": [],
   "source": [
    "feat = np.array([np.array(d).mean(0) for d in dat])"
   ]
  },
  {
   "cell_type": "code",
   "execution_count": 25,
   "metadata": {
    "collapsed": false
   },
   "outputs": [
    {
     "data": {
      "image/png": "[encoded data removed]",
      "text/plain": [
       "<matplotlib.figure.Figure at 0x10dd308d0>"
      ]
     },
     "metadata": {},
     "output_type": "display_data"
    }
   ],
   "source": [
    "def gen_angle(idx):\n",
    "    bin_range = 2 * np.pi / 18\n",
    "    return np.random.random() * bin_range + bin_range * idx - np.pi\n",
    "\n",
    "\n",
    "def randomwalk(feat, length):\n",
    "    angle = []\n",
    "    for i in range(length):\n",
    "        idx = np.argmax(np.random.multinomial(1, feat))\n",
    "        angle.append( gen_angle(idx) )\n",
    "    angle = np.array(angle)\n",
    "    \n",
    "    path = gen_path(angle)\n",
    "    \n",
    "    return path\n",
    "\n",
    "def gen_path(angle):\n",
    "    point = np.zeros(2)\n",
    "    path = [point.copy()]\n",
    "    edge_len = 10\n",
    "    direction = 0\n",
    "    \n",
    "    for a in angle:\n",
    "        dp = np.array([np.cos(direction), np.sin(direction)]) * edge_len\n",
    "        point += dp\n",
    "        path.append(point.copy())\n",
    "        direction += a\n",
    "\n",
    "    path = np.vstack(path)\n",
    "\n",
    "    return path\n",
    "\n",
    "\n",
    "def poolwalk(feat, shape_pool, feat_pool, length):\n",
    "    feat = np.array(feat)\n",
    "    feat_pool = np.array(feat_pool)\n",
    "    shape_pool = np.array(shape_pool)\n",
    "    dist = np.linalg.norm(feat_pool - feat, axis=1)\n",
    "    idx = np.argsort(dist)\n",
    "    num = length / len(shape_pool[0])\n",
    "    angle = np.hstack(shape_pool[idx][:num])\n",
    "    return gen_path(angle)\n",
    "    \n",
    "\n",
    "def plot_path(path, marker=None):\n",
    "    plt.subplot(111).set_aspect(1)\n",
    "\n",
    "    plt.plot(*path.T, marker=marker)    \n",
    "\n",
    "plot_path(poolwalk(feat[0], shape_pool[0], shape_feat_pool[0], 100))"
   ]
  },
  {
   "cell_type": "code",
   "execution_count": 26,
   "metadata": {
    "collapsed": true
   },
   "outputs": [],
   "source": [
    "def rotate(vec2, theta):\n",
    "    mat = np.array([\n",
    "        [np.cos(theta), np.sin(theta)],\n",
    "        [-np.sin(theta), np.cos(theta)]])\n",
    "    return vec2.dot(mat)\n",
    "    "
   ]
  },
  {
   "cell_type": "code",
   "execution_count": 27,
   "metadata": {
    "collapsed": true
   },
   "outputs": [],
   "source": [
    "def gen_circle(n, radius):\n",
    "    xs = []\n",
    "    for i in range(n):\n",
    "        a = i * np.pi * 2 / n\n",
    "        xs.append([np.cos(a), np.sin(a)])\n",
    "    return np.array(xs) * radius"
   ]
  },
  {
   "cell_type": "code",
   "execution_count": 48,
   "metadata": {
    "collapsed": false
   },
   "outputs": [],
   "source": [
    "norm = lambda x: sklearn.preprocessing.normalize(x, norm='l1')[0]\n",
    "\n",
    "def gen_bone(path, sigma):\n",
    "    window_ = scipy.signal.gaussian(len(path) * 2, sigma)\n",
    "    def window(x):\n",
    "        l = len(window_)/2\n",
    "        return norm(window_[l-x:2*l-x])[:, None]\n",
    "    bone = np.array([(path * window(i)).sum(0) for i in range(len(path))])\n",
    "    return bone\n",
    "\n",
    "\n",
    "def to_circle(path, sigma):\n",
    "    bone = gen_bone(path, sigma)\n",
    "    bone_edge = bone[1:] - bone[:-1]\n",
    "    \n",
    "    meat = []\n",
    "\n",
    "    for i in range(len(path)-1):\n",
    "        p = path[i] - bone[i]\n",
    "        e = bone_edge[i]\n",
    "        arg = np.arctan2(p[1], p[0]) - np.arctan2(e[1], e[0])\n",
    "        scale = np.linalg.norm(p) / np.linalg.norm(e)\n",
    "        meat.append([arg, scale])\n",
    "    \n",
    "    circle = gen_circle(len(path), 200)\n",
    "    circle_edge = circle[1:] - circle[:-1]\n",
    "    \n",
    "    circle_path = []\n",
    "    for i in range(len(path)-1):\n",
    "        arg, scale = meat[i]\n",
    "        e = circle_edge[i]\n",
    "        c = circle[i]\n",
    "        p = c + rotate(e, arg) * scale\n",
    "        circle_path.append(p)\n",
    "\n",
    "    circle_path = np.array(circle_path)\n",
    "    return circle_path\n",
    "\n",
    "\n",
    "def gen_avarage_shape(feat, shape_pool, feat_pool, length, sigma=5):\n",
    "    path = poolwalk(feat, shape_pool, feat_pool, length)\n",
    "    return to_circle(path, sigma)\n",
    "#     return path\n"
   ]
  },
  {
   "cell_type": "markdown",
   "metadata": {
    "collapsed": true
   },
   "source": [
    "# 平均図形の生成"
   ]
  },
  {
   "cell_type": "code",
   "execution_count": 49,
   "metadata": {
    "collapsed": false
   },
   "outputs": [],
   "source": [
    "sigma = 10"
   ]
  },
  {
   "cell_type": "code",
   "execution_count": 50,
   "metadata": {
    "collapsed": false
   },
   "outputs": [
    {
     "name": "stdout",
     "output_type": "stream",
     "text": [
      "jsons/kirakira/WRD\n"
     ]
    },
    {
     "data": {
      "image/png": "[encoded data removed]",
      "text/plain": [
       "<matplotlib.figure.Figure at 0x10ddc8a90>"
      ]
     },
     "metadata": {},
     "output_type": "display_data"
    }
   ],
   "source": [
    "num = 11\n",
    "dirname = dirname_list[num]\n",
    "print dirname\n",
    "feat = np.mean(dat[num], axis=0)\n",
    "\n",
    "plot_path(gen_avarage_shape(feat, shape_pool[num], shape_feat_pool[num], 1000, sigma=50))"
   ]
  },
  {
   "cell_type": "code",
   "execution_count": 54,
   "metadata": {
    "collapsed": false
   },
   "outputs": [
    {
     "data": {
      "text/plain": [
       "<matplotlib.figure.Figure at 0x10d8b8650>"
      ]
     },
     "metadata": {},
     "output_type": "display_data"
    }
   ],
   "source": [
    "for num in range(len(dirname_list)):\n",
    "    dirname = dirname_list[num]\n",
    "    feat = np.mean(dat[num], axis=0)\n",
    "    plot_path(gen_avarage_shape(feat, shape_pool[num], shape_feat_pool[num], 1000, sigma=50))\n",
    "    plt.savefig('avarage_images/%s.pdf' % dirname.replace('/', '_'), format='pdf')\n",
    "    plt.clf()"
   ]
  },
  {
   "cell_type": "code",
   "execution_count": 65,
   "metadata": {
    "collapsed": false
   },
   "outputs": [
    {
     "data": {
      "text/plain": [
       "<matplotlib.figure.Figure at 0x10db74810>"
      ]
     },
     "metadata": {},
     "output_type": "display_data"
    }
   ],
   "source": [
    "for num in range(0, len(dirname_list), 4):\n",
    "    feat = np.mean(np.vstack(dat[num:num+4]), axis=0)\n",
    "    plot_path(gen_avarage_shape(feat, np.vstack(shape_pool[num:num+4]), np.vstack(shape_feat_pool[num:num+4]), 1000, sigma=50))\n",
    "    dirname = '__'.join(dirname_list[num:num+4])\n",
    "    plt.savefig('avarage_images/%s.pdf' % dirname.replace('/', '_'), format='pdf')\n",
    "    plt.clf()"
   ]
  },
  {
   "cell_type": "code",
   "execution_count": null,
   "metadata": {
    "collapsed": true
   },
   "outputs": [],
   "source": []
  }
 ],
 "metadata": {
  "kernelspec": {
   "display_name": "Python 2",
   "language": "python",
   "name": "python2"
  },
  "language_info": {
   "codemirror_mode": {
    "name": "ipython",
    "version": 2
   },
   "file_extension": ".py",
   "mimetype": "text/x-python",
   "name": "python",
   "nbconvert_exporter": "python",
   "pygments_lexer": "ipython2",
   "version": "2.7.9"
  }
 },
 "nbformat": 4,
 "nbformat_minor": 0
}
