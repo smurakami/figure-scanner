{
 "cells": [
  {
   "cell_type": "markdown",
   "metadata": {},
   "source": [
    "# 抽出された特徴量の評価"
   ]
  },
  {
   "cell_type": "code",
   "execution_count": 194,
   "metadata": {
    "collapsed": false
   },
   "outputs": [],
   "source": [
    "import json\n",
    "import numpy as np\n",
    "import matplotlib.pyplot as plt\n",
    "import scipy.signal\n",
    "import sklearn.preprocessing\n",
    "%matplotlib inline\n"
   ]
  },
  {
   "cell_type": "code",
   "execution_count": 138,
   "metadata": {
    "collapsed": false
   },
   "outputs": [],
   "source": [
    "import glob\n",
    "dat = json.load(open(\"figure_features.json\"))\n",
    "dirname = glob.glob('jsons/*/*')\n"
   ]
  },
  {
   "cell_type": "code",
   "execution_count": 139,
   "metadata": {
    "collapsed": false
   },
   "outputs": [
    {
     "name": "stdout",
     "output_type": "stream",
     "text": [
      "jsons/clutter/JPN \t[ 0.0090231   0.015956    0.19622364  0.22991623  0.54888102]\n",
      "jsons/clutter/WRD \t[ 0.00564449  0.0115223   0.20894616  0.25247929  0.52140776]\n",
      "jsons/gochagocha/JPN \t[ 0.01105343  0.01282227  0.24220134  0.30147198  0.43245098]\n",
      "jsons/gochagocha/WRD \t[ 0.0042756   0.00923921  0.17685046  0.26003561  0.54959913]\n",
      "jsons/kirakira/JPN \t[ 0.00431125  0.00682611  0.1643413   0.29225799  0.53226335]\n",
      "jsons/kirakira/WRD \t[ 0.00724201  0.01040253  0.18952026  0.28195107  0.51088413]\n",
      "jsons/murmur/JPN \t[ 0.00614216  0.01296055  0.18426367  0.22417467  0.57245895]\n",
      "jsons/murmur/WRD \t[ 0.00561452  0.0082686   0.19306318  0.26585678  0.52719691]\n",
      "jsons/sarasara/JPN \t[ 0.01056206  0.01998984  0.209599    0.19552781  0.56432128]\n",
      "jsons/sarasara/WRD \t[ 0.01030783  0.01589554  0.20013731  0.23737115  0.53628817]\n",
      "jsons/twinkle/JPN \t[ 0.01162855  0.02258117  0.22542008  0.19402886  0.54634134]\n",
      "jsons/twinkle/WRD \t[ 0.01064507  0.01463117  0.19079947  0.23005694  0.55386736]\n"
     ]
    }
   ],
   "source": [
    "for shape, d in zip(dat, dirname):\n",
    "    shape = np.array(shape)\n",
    "    print d, \"\\t\", shape.mean(0)\n"
   ]
  },
  {
   "cell_type": "code",
   "execution_count": 140,
   "metadata": {
    "collapsed": true
   },
   "outputs": [],
   "source": [
    "feat = np.array([np.array(d).mean(0) for d in dat])"
   ]
  },
  {
   "cell_type": "code",
   "execution_count": 141,
   "metadata": {
    "collapsed": false
   },
   "outputs": [
    {
     "data": {
      "text/plain": [
       "<matplotlib.collections.PathCollection at 0x10b3c7e10>"
      ]
     },
     "execution_count": 141,
     "metadata": {},
     "output_type": "execute_result"
    },
    {
     "data": {
      "image/png": "[encoded data removed]",
      "text/plain": [
       "<matplotlib.figure.Figure at 0x10a9ad8d0>"
      ]
     },
     "metadata": {},
     "output_type": "display_data"
    }
   ],
   "source": [
    "plt.scatter(feat.T[2], feat.T[4])"
   ]
  },
  {
   "cell_type": "code",
   "execution_count": 359,
   "metadata": {
    "collapsed": false
   },
   "outputs": [],
   "source": [
    "deg10 = 0.1745\n",
    "\n",
    "def gen_p_kado():\n",
    "    return np.pi / 2 + np.random.random() * np.pi / 2\n",
    "\n",
    "def gen_n_kado():\n",
    "    return - gen_p_kado()\n",
    "\n",
    "def gen_p_maru():\n",
    "    return deg10 + np.random.random() * (np.pi/2 - deg10)\n",
    "\n",
    "def gen_n_maru():\n",
    "    return - gen_p_maru()\n",
    "\n",
    "def gen_massugu():\n",
    "    return - deg10 + np.random.random() * deg10 * 2\n",
    "\n",
    "gen_functions = [\n",
    "    gen_p_kado,\n",
    "    gen_n_kado,\n",
    "    gen_p_maru,\n",
    "    gen_n_maru,\n",
    "    gen_massugu\n",
    "    ]\n",
    "\n",
    "\n",
    "def randomwalk(feat):\n",
    "    angle = []\n",
    "    for i in range(100):\n",
    "        idx = np.argmax(np.random.multinomial(1, feat))\n",
    "        angle.append( gen_functions[idx]() )\n",
    "    angle = np.array(angle)\n",
    "    \n",
    "    point = np.zeros(2)\n",
    "    path = [point.copy()]\n",
    "    edge_len = 10\n",
    "    direction = 0\n",
    "    \n",
    "    for a in angle:\n",
    "        dp = np.array([np.cos(direction), np.sin(direction)]) * edge_len\n",
    "        point += dp\n",
    "        path.append(point.copy())\n",
    "        direction += a\n",
    "\n",
    "    path = np.vstack(path)\n",
    "    \n",
    "    return path\n",
    "\n",
    "def plot_path(path, marker=None):\n",
    "    size = max(path.max(1) - path.min(1))\n",
    "    plt.xlim(path.T[0].min(), path.T[0].min() + size)\n",
    "    plt.ylim(path.T[1].min(), path.T[1].min() + size)    \n",
    "    plt.subplot(111).set_aspect(1)\n",
    "\n",
    "    plt.plot(*path.T, marker=marker)    \n"
   ]
  },
  {
   "cell_type": "code",
   "execution_count": 152,
   "metadata": {
    "collapsed": false,
    "scrolled": true
   },
   "outputs": [
    {
     "data": {
      "text/plain": [
       "<matplotlib.figure.Figure at 0x10af43890>"
      ]
     },
     "metadata": {},
     "output_type": "display_data"
    }
   ],
   "source": [
    "for f, d in zip(feat, dirname):\n",
    "    path = randomwalk(f)\n",
    "    \n",
    "    plot_path(path)\n",
    "    \n",
    "    plt.savefig(\"random_walk_images/%s.png\" % d.replace('/', '_'))\n",
    "    plt.clf()\n"
   ]
  },
  {
   "cell_type": "code",
   "execution_count": 156,
   "metadata": {
    "collapsed": false
   },
   "outputs": [
    {
     "data": {
      "image/png": "[encoded data removed]",
      "text/plain": [
       "<matplotlib.figure.Figure at 0x10b046e10>"
      ]
     },
     "metadata": {},
     "output_type": "display_data"
    }
   ],
   "source": [
    "path = randomwalk(feat[2])\n",
    "plot_path(path)"
   ]
  },
  {
   "cell_type": "code",
   "execution_count": 240,
   "metadata": {
    "collapsed": false
   },
   "outputs": [
    {
     "data": {
      "text/plain": [
       "1.0"
      ]
     },
     "execution_count": 240,
     "metadata": {},
     "output_type": "execute_result"
    }
   ],
   "source": [
    "norm = lambda x: sklearn.preprocessing.normalize(x, norm='l1')[0]\n",
    "norm(scipy.signal.gaussian(20, 5)).sum()"
   ]
  },
  {
   "cell_type": "code",
   "execution_count": 358,
   "metadata": {
    "collapsed": false
   },
   "outputs": [
    {
     "data": {
      "text/plain": [
       "[<matplotlib.lines.Line2D at 0x110a11710>]"
      ]
     },
     "execution_count": 358,
     "metadata": {},
     "output_type": "execute_result"
    },
    {
     "data": {
      "image/png": "[encoded data removed]",
      "text/plain": [
       "<matplotlib.figure.Figure at 0x110c3b850>"
      ]
     },
     "metadata": {},
     "output_type": "display_data"
    }
   ],
   "source": [
    "plt.plot( scipy.signal.gaussian(len(path), 1), marker=None )"
   ]
  },
  {
   "cell_type": "code",
   "execution_count": 344,
   "metadata": {
    "collapsed": false
   },
   "outputs": [],
   "source": [
    "def gen_bone(path, sigma):\n",
    "    window_ = scipy.signal.gaussian(len(path) * 2, sigma)\n",
    "    def window(x):\n",
    "        l = len(window_)/2\n",
    "        return norm(window_[l-x:2*l-x])[:, None]\n",
    "    bone = np.array([(path * window(i)).sum(0) for i in range(len(path))])\n",
    "    return bone"
   ]
  },
  {
   "cell_type": "code",
   "execution_count": 370,
   "metadata": {
    "collapsed": false
   },
   "outputs": [
    {
     "data": {
      "image/png": "[encoded data removed]",
      "text/plain": [
       "<matplotlib.figure.Figure at 0x111653890>"
      ]
     },
     "metadata": {},
     "output_type": "display_data"
    }
   ],
   "source": [
    "plot_path(gen_bone(path, 5), marker='+')\n",
    "plot_path(path, marker='+')"
   ]
  },
  {
   "cell_type": "code",
   "execution_count": 384,
   "metadata": {
    "collapsed": true
   },
   "outputs": [],
   "source": [
    "def rotate(vec2, theta):\n",
    "    mat = np.array([\n",
    "        [np.cos(theta), np.sin(theta)],\n",
    "        [-np.sin(theta), np.cos(theta)]])\n",
    "    return vec2.dot(mat)\n",
    "    "
   ]
  },
  {
   "cell_type": "code",
   "execution_count": 474,
   "metadata": {
    "collapsed": false
   },
   "outputs": [],
   "source": [
    "bone = gen_bone(path, 5)\n",
    "path_edge = path[1:] - path[:-1]\n",
    "bone_edge = bone[1:] - bone[:-1]"
   ]
  },
  {
   "cell_type": "code",
   "execution_count": 475,
   "metadata": {
    "collapsed": false
   },
   "outputs": [],
   "source": [
    "meat = []\n",
    "\n",
    "for i in range(len(path)-1):\n",
    "    p = path[i] - bone[i]\n",
    "    e = bone_edge[i]\n",
    "    arg = np.arctan2(p[1], p[0]) - np.arctan2(e[1], e[0])\n",
    "    scale = np.linalg.norm(p) / np.linalg.norm(e)\n",
    "    meat.append([arg, scale])\n",
    "    "
   ]
  },
  {
   "cell_type": "code",
   "execution_count": 423,
   "metadata": {
    "collapsed": true
   },
   "outputs": [],
   "source": [
    "def gen_circle(n, radius):\n",
    "    xs = []\n",
    "    for i in range(n):\n",
    "        a = i * np.pi * 2 / n\n",
    "        xs.append([np.cos(a), np.sin(a)])\n",
    "    return np.array(xs) * radius"
   ]
  },
  {
   "cell_type": "code",
   "execution_count": 425,
   "metadata": {
    "collapsed": false
   },
   "outputs": [],
   "source": [
    "circle = gen_circle(len(path), 100)"
   ]
  },
  {
   "cell_type": "code",
   "execution_count": 426,
   "metadata": {
    "collapsed": true
   },
   "outputs": [],
   "source": [
    "circle_edge = circle[1:] - circle[:-1]"
   ]
  },
  {
   "cell_type": "code",
   "execution_count": 432,
   "metadata": {
    "collapsed": false
   },
   "outputs": [],
   "source": [
    "path_new = []\n",
    "for i in range(len(path)-1):\n",
    "    arg, scale = meat[i]\n",
    "    e = circle_edge[i]\n",
    "    c = circle[i]\n",
    "    p = c + rotate(e, arg) * scale\n",
    "    path_new.append(p)\n",
    "    \n",
    "path_new = np.array(path_new)"
   ]
  },
  {
   "cell_type": "code",
   "execution_count": 473,
   "metadata": {
    "collapsed": false
   },
   "outputs": [
    {
     "data": {
      "text/plain": [
       "[<matplotlib.lines.Line2D at 0x111773190>]"
      ]
     },
     "execution_count": 473,
     "metadata": {},
     "output_type": "execute_result"
    },
    {
     "data": {
      "image/png": "[encoded data removed]",
      "text/plain": [
       "<matplotlib.figure.Figure at 0x1113dc7d0>"
      ]
     },
     "metadata": {},
     "output_type": "display_data"
    }
   ],
   "source": [
    "plt.subplot(111).set_aspect(1)\n",
    "n = 48\n",
    "plt.plot(*circle[:n].T)\n",
    "plt.plot(*path_new[:n].T)"
   ]
  },
  {
   "cell_type": "code",
   "execution_count": 472,
   "metadata": {
    "collapsed": false
   },
   "outputs": [
    {
     "data": {
      "text/plain": [
       "array([  9.98107275, -24.21976985])"
      ]
     },
     "execution_count": 472,
     "metadata": {},
     "output_type": "execute_result"
    }
   ],
   "source": []
  },
  {
   "cell_type": "code",
   "execution_count": null,
   "metadata": {
    "collapsed": true
   },
   "outputs": [],
   "source": []
  }
 ],
 "metadata": {
  "kernelspec": {
   "display_name": "Python 2",
   "language": "python",
   "name": "python2"
  },
  "language_info": {
   "codemirror_mode": {
    "name": "ipython",
    "version": 2
   },
   "file_extension": ".py",
   "mimetype": "text/x-python",
   "name": "python",
   "nbconvert_exporter": "python",
   "pygments_lexer": "ipython2",
   "version": "2.7.9"
  }
 },
 "nbformat": 4,
 "nbformat_minor": 0
}
