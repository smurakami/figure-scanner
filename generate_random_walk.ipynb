{
 "cells": [
  {
   "cell_type": "markdown",
   "metadata": {},
   "source": [
    "# 抽出された特徴量の評価"
   ]
  },
  {
   "cell_type": "code",
   "execution_count": 89,
   "metadata": {
    "collapsed": true
   },
   "outputs": [],
   "source": [
    "import json\n",
    "import numpy as np\n",
    "import matplotlib.pyplot as plt\n",
    "%matplotlib inline"
   ]
  },
  {
   "cell_type": "code",
   "execution_count": 90,
   "metadata": {
    "collapsed": false
   },
   "outputs": [],
   "source": [
    "import glob\n",
    "dat = json.load(open(\"figure_features.json\"))\n",
    "dirname = glob.glob('jsons/*/*')\n"
   ]
  },
  {
   "cell_type": "code",
   "execution_count": 91,
   "metadata": {
    "collapsed": false
   },
   "outputs": [
    {
     "name": "stdout",
     "output_type": "stream",
     "text": [
      "jsons/clutter/JPN \t[ 0.0090231   0.015956    0.19622364  0.22991623  0.54888102]\n",
      "jsons/clutter/WRD \t[ 0.00564449  0.0115223   0.20894616  0.25247929  0.52140776]\n",
      "jsons/gochagocha/JPN \t[ 0.01105343  0.01282227  0.24220134  0.30147198  0.43245098]\n",
      "jsons/gochagocha/WRD \t[ 0.0042756   0.00923921  0.17685046  0.26003561  0.54959913]\n",
      "jsons/kirakira/JPN \t[ 0.00431125  0.00682611  0.1643413   0.29225799  0.53226335]\n",
      "jsons/kirakira/WRD \t[ 0.00724201  0.01040253  0.18952026  0.28195107  0.51088413]\n",
      "jsons/murmur/JPN \t[ 0.00614216  0.01296055  0.18426367  0.22417467  0.57245895]\n",
      "jsons/murmur/WRD \t[ 0.00561452  0.0082686   0.19306318  0.26585678  0.52719691]\n",
      "jsons/sarasara/JPN \t[ 0.01056206  0.01998984  0.209599    0.19552781  0.56432128]\n",
      "jsons/sarasara/WRD \t[ 0.01030783  0.01589554  0.20013731  0.23737115  0.53628817]\n",
      "jsons/twinkle/JPN \t[ 0.01162855  0.02258117  0.22542008  0.19402886  0.54634134]\n",
      "jsons/twinkle/WRD \t[ 0.01064507  0.01463117  0.19079947  0.23005694  0.55386736]\n"
     ]
    }
   ],
   "source": [
    "for shape, d in zip(dat, dirname):\n",
    "    shape = np.array(shape)\n",
    "    print d, \"\\t\", shape.mean(0)\n"
   ]
  },
  {
   "cell_type": "code",
   "execution_count": 92,
   "metadata": {
    "collapsed": true
   },
   "outputs": [],
   "source": [
    "feat = np.array([np.array(d).mean(0) for d in dat])"
   ]
  },
  {
   "cell_type": "code",
   "execution_count": 93,
   "metadata": {
    "collapsed": false
   },
   "outputs": [
    {
     "data": {
      "text/plain": [
       "<matplotlib.collections.PathCollection at 0x10ac37390>"
      ]
     },
     "execution_count": 93,
     "metadata": {},
     "output_type": "execute_result"
    },
    {
     "data": {
      "image/png": "[encoded data removed]",
      "text/plain": [
       "<matplotlib.figure.Figure at 0x10a12f790>"
      ]
     },
     "metadata": {},
     "output_type": "display_data"
    }
   ],
   "source": [
    "plt.scatter(feat.T[2], feat.T[4])"
   ]
  },
  {
   "cell_type": "code",
   "execution_count": 118,
   "metadata": {
    "collapsed": false
   },
   "outputs": [],
   "source": [
    "deg10 = 0.1745\n",
    "\n",
    "def gen_p_kado():\n",
    "    return np.pi / 2 + np.random.random() * np.pi / 2\n",
    "\n",
    "def gen_n_kado():\n",
    "    return - gen_p_kado()\n",
    "\n",
    "def gen_p_maru():\n",
    "    return deg10 + np.random.random() * (np.pi/2 - deg10)\n",
    "\n",
    "def gen_n_maru():\n",
    "    return - gen_p_maru()\n",
    "\n",
    "def gen_massugu():\n",
    "    return - deg10 + np.random.random() * deg10 * 2\n",
    "\n",
    "gen_functions = [\n",
    "    gen_p_kado,\n",
    "    gen_n_kado,\n",
    "    gen_p_maru,\n",
    "    gen_n_maru,\n",
    "    gen_massugu\n",
    "    ]\n",
    "\n",
    "\n",
    "def plot_randomwalk(feat):\n",
    "    angle = []\n",
    "    for i in range(100):\n",
    "        idx = np.argmax(np.random.multinomial(1, feat))\n",
    "        angle.append( gen_functions[idx]() )\n",
    "    angle = np.array(angle)\n",
    "    \n",
    "    point = np.zeros(2)\n",
    "    path = [point.copy()]\n",
    "    edge_len = 10\n",
    "    direction = 0\n",
    "    \n",
    "    for a in angle:\n",
    "        dp = np.array([np.cos(direction), np.sin(direction)]) * edge_len\n",
    "        point += dp\n",
    "        path.append(point.copy())\n",
    "        direction += a\n",
    "\n",
    "    path = np.vstack(path)\n",
    "    \n",
    "    plt.plot(*path.T)"
   ]
  },
  {
   "cell_type": "code",
   "execution_count": 123,
   "metadata": {
    "collapsed": false,
    "scrolled": true
   },
   "outputs": [
    {
     "data": {
      "text/plain": [
       "<matplotlib.figure.Figure at 0x10b232450>"
      ]
     },
     "metadata": {},
     "output_type": "display_data"
    }
   ],
   "source": [
    "for f, d in zip(feat, dirname):\n",
    "    plot_randomwalk(f)\n",
    "    plt.savefig(\"random_walk_images/%s.png\" % d.replace('/', '_'))\n",
    "    plt.clf()\n"
   ]
  },
  {
   "cell_type": "code",
   "execution_count": 120,
   "metadata": {
    "collapsed": false
   },
   "outputs": [],
   "source": []
  },
  {
   "cell_type": "code",
   "execution_count": null,
   "metadata": {
    "collapsed": true
   },
   "outputs": [],
   "source": []
  }
 ],
 "metadata": {
  "kernelspec": {
   "display_name": "Python 2",
   "language": "python",
   "name": "python2"
  },
  "language_info": {
   "codemirror_mode": {
    "name": "ipython",
    "version": 2
   },
   "file_extension": ".py",
   "mimetype": "text/x-python",
   "name": "python",
   "nbconvert_exporter": "python",
   "pygments_lexer": "ipython2",
   "version": "2.7.9"
  }
 },
 "nbformat": 4,
 "nbformat_minor": 0
}
