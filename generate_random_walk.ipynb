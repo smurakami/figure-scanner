{
 "cells": [
  {
   "cell_type": "markdown",
   "metadata": {},
   "source": [
    "# 抽出された特徴量の評価"
   ]
  },
  {
   "cell_type": "code",
   "execution_count": 2,
   "metadata": {
    "collapsed": true
   },
   "outputs": [],
   "source": [
    "import json\n",
    "import numpy as np\n",
    "import matplotlib.pyplot as plt\n",
    "%matplotlib inline"
   ]
  },
  {
   "cell_type": "code",
   "execution_count": 3,
   "metadata": {
    "collapsed": false
   },
   "outputs": [],
   "source": [
    "import glob\n",
    "dat = json.load(open(\"figure_features.json\"))\n",
    "dirname = glob.glob('jsons/*/*')\n"
   ]
  },
  {
   "cell_type": "code",
   "execution_count": 4,
   "metadata": {
    "collapsed": false
   },
   "outputs": [
    {
     "name": "stdout",
     "output_type": "stream",
     "text": [
      "jsons/clutter/JPN \t[  4.24942611e-01   4.81671302e-02   1.47076185e-02   7.30218945e-03\n",
      "   3.24922395e-03   2.22611217e-03   9.72160527e-04   2.49084474e-04\n",
      "   5.47659072e-04   4.64563009e-01   6.36381245e-02   1.37514655e-02\n",
      "   7.39218124e-03   5.64463882e-03   3.10603938e-03   2.20012073e-03\n",
      "   1.18025662e-03   7.36676336e-04]\n",
      "jsons/clutter/WRD \t[  4.20551174e-01   4.54176527e-02   8.16862810e-03   3.22790661e-03\n",
      "   2.00016428e-03   2.05458639e-03   1.03592199e-03   5.47024962e-04\n",
      "   2.66085895e-04   4.98507622e-01   6.58874983e-02   8.74700154e-03\n",
      "   3.94466648e-03   4.46006316e-03   2.72679839e-03   1.33838888e-03\n",
      "   1.03319384e-03   4.82477167e-04]\n",
      "jsons/gochagocha/JPN \t[ 0.48080284  0.04337108  0.01009146  0.00567303  0.00380735  0.00283242\n",
      "  0.00228008  0.00140847  0.00106967  0.44270391  0.04899856  0.01273228\n",
      "  0.00720687  0.00527838  0.00443667  0.0039139   0.00312414  0.00276968]\n"
     ]
    }
   ],
   "source": [
    "for shape, d in zip(dat, dirname):\n",
    "    shape = np.array(shape)\n",
    "    print d, \"\\t\", shape.mean(0)\n"
   ]
  },
  {
   "cell_type": "code",
   "execution_count": 5,
   "metadata": {
    "collapsed": true
   },
   "outputs": [],
   "source": [
    "feat = np.array([np.array(d).mean(0) for d in dat])"
   ]
  },
  {
   "cell_type": "code",
   "execution_count": 6,
   "metadata": {
    "collapsed": false
   },
   "outputs": [
    {
     "data": {
      "text/plain": [
       "<matplotlib.collections.PathCollection at 0x110dbe4d0>"
      ]
     },
     "execution_count": 6,
     "metadata": {},
     "output_type": "execute_result"
    },
    {
     "data": {
      "image/png": "[encoded data removed]",
      "text/plain": [
       "<matplotlib.figure.Figure at 0x113f1c7d0>"
      ]
     },
     "metadata": {},
     "output_type": "display_data"
    }
   ],
   "source": [
    "plt.scatter(feat.T[2], feat.T[4])"
   ]
  },
  {
   "cell_type": "code",
   "execution_count": 118,
   "metadata": {
    "collapsed": false
   },
   "outputs": [],
   "source": [
    "deg10 = 0.1745\n",
    "\n",
    "def gen_p_kado():\n",
    "    return np.pi / 2 + np.random.random() * np.pi / 2\n",
    "\n",
    "def gen_n_kado():\n",
    "    return - gen_p_kado()\n",
    "\n",
    "def gen_p_maru():\n",
    "    return deg10 + np.random.random() * (np.pi/2 - deg10)\n",
    "\n",
    "def gen_n_maru():\n",
    "    return - gen_p_maru()\n",
    "\n",
    "def gen_massugu():\n",
    "    return - deg10 + np.random.random() * deg10 * 2\n",
    "\n",
    "gen_functions = [\n",
    "    gen_p_kado,\n",
    "    gen_n_kado,\n",
    "    gen_p_maru,\n",
    "    gen_n_maru,\n",
    "    gen_massugu\n",
    "    ]\n",
    "\n",
    "\n",
    "def plot_randomwalk(feat):\n",
    "    angle = []\n",
    "    for i in range(100):\n",
    "        idx = np.argmax(np.random.multinomial(1, feat))\n",
    "        angle.append( gen_functions[idx]() )\n",
    "    angle = np.array(angle)\n",
    "    \n",
    "    point = np.zeros(2)\n",
    "    path = [point.copy()]\n",
    "    edge_len = 10\n",
    "    direction = 0\n",
    "    \n",
    "    for a in angle:\n",
    "        dp = np.array([np.cos(direction), np.sin(direction)]) * edge_len\n",
    "        point += dp\n",
    "        path.append(point.copy())\n",
    "        direction += a\n",
    "\n",
    "    path = np.vstack(path)\n",
    "    \n",
    "    plt.plot(*path.T)"
   ]
  },
  {
   "cell_type": "code",
   "execution_count": 123,
   "metadata": {
    "collapsed": false,
    "scrolled": true
   },
   "outputs": [
    {
     "data": {
      "text/plain": [
       "<matplotlib.figure.Figure at 0x10b232450>"
      ]
     },
     "metadata": {},
     "output_type": "display_data"
    }
   ],
   "source": [
    "for f, d in zip(feat, dirname):\n",
    "    plot_randomwalk(f)\n",
    "    plt.savefig(\"random_walk_images/%s.png\" % d.replace('/', '_'))\n",
    "    plt.clf()\n"
   ]
  },
  {
   "cell_type": "code",
   "execution_count": 120,
   "metadata": {
    "collapsed": false
   },
   "outputs": [],
   "source": []
  },
  {
   "cell_type": "code",
   "execution_count": null,
   "metadata": {
    "collapsed": true
   },
   "outputs": [],
   "source": []
  }
 ],
 "metadata": {
  "kernelspec": {
   "display_name": "Python 2",
   "language": "python",
   "name": "python2"
  },
  "language_info": {
   "codemirror_mode": {
    "name": "ipython",
    "version": 2
   },
   "file_extension": ".py",
   "mimetype": "text/x-python",
   "name": "python",
   "nbconvert_exporter": "python",
   "pygments_lexer": "ipython2",
   "version": "2.7.10"
  }
 },
 "nbformat": 4,
 "nbformat_minor": 0
}
