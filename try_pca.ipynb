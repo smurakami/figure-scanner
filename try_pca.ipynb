{
 "cells": [
  {
   "cell_type": "code",
   "execution_count": 1,
   "metadata": {
    "collapsed": true
   },
   "outputs": [],
   "source": [
    "import numpy as np\n",
    "import sklearn.decomposition\n",
    "import matplotlib.pyplot as plt\n",
    "%matplotlib inline"
   ]
  },
  {
   "cell_type": "code",
   "execution_count": 48,
   "metadata": {
    "collapsed": false
   },
   "outputs": [],
   "source": [
    "import json\n",
    "dat = json.load(open('jsons/kirakira/JPN/kirakira_JPN_adachi-e.json'))\n",
    "points = np.array(dat['vertex'])"
   ]
  },
  {
   "cell_type": "code",
   "execution_count": 49,
   "metadata": {
    "collapsed": false
   },
   "outputs": [
    {
     "data": {
      "text/plain": [
       "<matplotlib.collections.PathCollection at 0x108146fd0>"
      ]
     },
     "execution_count": 49,
     "metadata": {},
     "output_type": "execute_result"
    },
    {
     "data": {
      "image/png": "[encoded data removed]",
      "text/plain": [
       "<matplotlib.figure.Figure at 0x106ba4150>"
      ]
     },
     "metadata": {},
     "output_type": "display_data"
    }
   ],
   "source": [
    "plt.subplot().set_aspect(1)\n",
    "plt.scatter(*points.T)"
   ]
  },
  {
   "cell_type": "code",
   "execution_count": 17,
   "metadata": {
    "collapsed": false
   },
   "outputs": [
    {
     "data": {
      "text/plain": [
       "PCA(copy=True, n_components=None, whiten=False)"
      ]
     },
     "execution_count": 17,
     "metadata": {},
     "output_type": "execute_result"
    }
   ],
   "source": [
    "pca = sklearn.decomposition.PCA()\n",
    "pca.fit(points)"
   ]
  },
  {
   "cell_type": "code",
   "execution_count": 25,
   "metadata": {
    "collapsed": false
   },
   "outputs": [
    {
     "data": {
      "text/plain": [
       "<matplotlib.collections.PathCollection at 0x106efb750>"
      ]
     },
     "execution_count": 25,
     "metadata": {},
     "output_type": "execute_result"
    },
    {
     "data": {
      "image/png": "[encoded data removed]",
      "text/plain": [
       "<matplotlib.figure.Figure at 0x106d2c7d0>"
      ]
     },
     "metadata": {},
     "output_type": "display_data"
    }
   ],
   "source": [
    "plt.subplot().set_aspect(1)\n",
    "transformed = pca.transform(points)\n",
    "plt.scatter(*transformed.T)"
   ]
  },
  {
   "cell_type": "code",
   "execution_count": 44,
   "metadata": {
    "collapsed": false
   },
   "outputs": [
    {
     "data": {
      "text/plain": [
       "(1.5500989447916576, array([ 0.21054867,  0.97758338]))"
      ]
     },
     "execution_count": 44,
     "metadata": {},
     "output_type": "execute_result"
    }
   ],
   "source": [
    "std = transformed.std(axis=0)\n",
    "aspect = std[0] / std[1]\n",
    "direction = pca.components_[0]\n",
    "aspect, direction"
   ]
  },
  {
   "cell_type": "code",
   "execution_count": 3,
   "metadata": {
    "collapsed": true
   },
   "outputs": [],
   "source": [
    "def analyse(points):\n",
    "    pca = sklearn.decomposition.PCA()\n",
    "    pca.fit(points)\n",
    "    transformed = pca.transform(points)\n",
    "    std = transformed.std(axis=0)\n",
    "    aspect = std[0] / std[1]\n",
    "    direction = pca.components_[0]\n",
    "    return aspect, direction"
   ]
  },
  {
   "cell_type": "code",
   "execution_count": 4,
   "metadata": {
    "collapsed": false
   },
   "outputs": [
    {
     "data": {
      "text/plain": [
       "(1.5500989447916576, array([ 0.21054867,  0.97758338]))"
      ]
     },
     "execution_count": 4,
     "metadata": {},
     "output_type": "execute_result"
    }
   ],
   "source": [
    "analyse(points)"
   ]
  },
  {
   "cell_type": "code",
   "execution_count": 74,
   "metadata": {
    "collapsed": false
   },
   "outputs": [
    {
     "name": "stdout",
     "output_type": "stream",
     "text": [
      "jsons/clutter/*/*\n",
      "103\n",
      "jsons/gochagocha/*/*\n",
      "103\n",
      "jsons/murmur/*/*\n",
      "103\n",
      "jsons/sarasara/*/*\n",
      "103\n",
      "jsons/twinkle/*/*\n",
      "103\n",
      "jsons/kirakira/*/*\n",
      "103\n"
     ]
    }
   ],
   "source": [
    "import glob\n",
    "\n",
    "onomatopeia_list = [\n",
    "    'clutter', 'gochagocha',\n",
    "    'murmur', 'sarasara',\n",
    "    'twinkle', 'kirakira',\n",
    "]\n",
    "\n",
    "dat = []\n",
    "for onomatopeia in onomatopeia_list:\n",
    "    filename_pattern = 'jsons/%s/*/*' % onomatopeia\n",
    "    print filename_pattern\n",
    "    onomatpeia_dat = []\n",
    "    for filename in sorted(glob.glob(filename_pattern)):\n",
    "        dic = json.load(open(filename))\n",
    "        onomatpeia_dat.append(dic['vertex'])\n",
    "    print len(onomatpeia_dat)\n",
    "    dat.append(onomatpeia_dat)\n",
    "\n",
    "dat = [dat[i] + dat[i+1] for i in range(0, len(dat), 2)]\n",
    "genshou_name = [onomatpeia_list[i] + '-' + onomatopeia_list[i+1] for i in range(0, len(onomatopeia_list), 2)]"
   ]
  },
  {
   "cell_type": "code",
   "execution_count": 83,
   "metadata": {
    "collapsed": false
   },
   "outputs": [
    {
     "name": "stdout",
     "output_type": "stream",
     "text": [
      "clutter-gochagocha 1.62229029295 0.0228861394664\n",
      "murmur-sarasara 2.04775438778 -0.155873470571\n",
      "twinkle-kirakira 1.50665599111 -0.189936642615\n"
     ]
    }
   ],
   "source": [
    "for genshou_dat, genshou in zip(dat, genshou_name):\n",
    "    aspect = []\n",
    "    direction = []\n",
    "    for shape in genshou_dat:\n",
    "        a, d = analyse(np.array(shape))\n",
    "        if d[0] < 0:\n",
    "            d *= -1\n",
    "        d = np.arctan2(d[1], d[0])\n",
    "        aspect.append(a)\n",
    "        direction.append(d)\n",
    "    print genshou, np.mean(aspect),  np.mean(direction) # * 180 / np.pi"
   ]
  },
  {
   "cell_type": "code",
   "execution_count": null,
   "metadata": {
    "collapsed": true
   },
   "outputs": [],
   "source": []
  },
  {
   "cell_type": "code",
   "execution_count": null,
   "metadata": {
    "collapsed": true
   },
   "outputs": [],
   "source": []
  },
  {
   "cell_type": "code",
   "execution_count": null,
   "metadata": {
    "collapsed": true
   },
   "outputs": [],
   "source": []
  }
 ],
 "metadata": {
  "kernelspec": {
   "display_name": "Python 2",
   "language": "python",
   "name": "python2"
  },
  "language_info": {
   "codemirror_mode": {
    "name": "ipython",
    "version": 2
   },
   "file_extension": ".py",
   "mimetype": "text/x-python",
   "name": "python",
   "nbconvert_exporter": "python",
   "pygments_lexer": "ipython2",
   "version": "2.7.9"
  }
 },
 "nbformat": 4,
 "nbformat_minor": 0
}
